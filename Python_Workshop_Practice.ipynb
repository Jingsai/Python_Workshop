{
 "cells": [
  {
   "cell_type": "markdown",
   "metadata": {},
   "source": [
    "# Python Workshop Practice\n",
    "---"
   ]
  },
  {
   "cell_type": "markdown",
   "metadata": {},
   "source": [
    "### Assignment \n",
    "\n",
    "**Practice 1:**\n",
    "\n",
    "Write a piece of pseudocode to swap values of two variables $a$ and $b$. "
   ]
  },
  {
   "cell_type": "code",
   "execution_count": null,
   "metadata": {},
   "outputs": [],
   "source": [
    "# Please write your code here:\n",
    "\n",
    "\n"
   ]
  },
  {
   "cell_type": "markdown",
   "metadata": {},
   "source": [
    "**Practice 2:**\n",
    "\n",
    "Given a singly linked list, insert a node *p* after current node *cur*. \n",
    "\n",
    "In python, we only need a one-line code to insert *p* after *cur*."
   ]
  },
  {
   "cell_type": "code",
   "execution_count": null,
   "metadata": {},
   "outputs": [],
   "source": [
    "# Please write your code here:\n",
    "\n",
    "\n"
   ]
  },
  {
   "cell_type": "markdown",
   "metadata": {},
   "source": [
    "### List\n",
    "\n",
    "**Practice 3**\n",
    "\n",
    "Can we reverse a list through slicing? How? "
   ]
  },
  {
   "cell_type": "code",
   "execution_count": 12,
   "metadata": {},
   "outputs": [],
   "source": [
    "# Please write your code here:\n",
    "\n",
    "\n"
   ]
  },
  {
   "cell_type": "markdown",
   "metadata": {},
   "source": [
    "**Practice 4**\n",
    "\n",
    "Can we use a list as a stack or a queue? How? "
   ]
  },
  {
   "cell_type": "code",
   "execution_count": null,
   "metadata": {},
   "outputs": [],
   "source": [
    "# Please write your code here:\n",
    "\n",
    "\n"
   ]
  },
  {
   "cell_type": "markdown",
   "metadata": {},
   "source": [
    "**Practice 5**\n",
    "\n",
    "Run this piece of code and report what is the ouput:\n",
    "```python\n",
    "x = [1,2,3]\n",
    "y = x\n",
    "x[0] = 0\n",
    "y\n",
    "```"
   ]
  },
  {
   "cell_type": "code",
   "execution_count": null,
   "metadata": {},
   "outputs": [],
   "source": [
    "# Please write your code here:\n",
    "\n",
    "\n"
   ]
  },
  {
   "cell_type": "markdown",
   "metadata": {},
   "source": [
    "**Practice 6**\n",
    "\n",
    "Run this piece of code and report what is the ouput:\n",
    "```python\n",
    "x = [[1, 2], [3, 4]]\n",
    "y = x[:]\n",
    "x[0][0] = 0\n",
    "y\n",
    "```"
   ]
  },
  {
   "cell_type": "code",
   "execution_count": null,
   "metadata": {},
   "outputs": [],
   "source": [
    "# Please write your code here:\n",
    "\n",
    "\n"
   ]
  },
  {
   "cell_type": "markdown",
   "metadata": {},
   "source": [
    "**Practice 7** \n",
    "    \n",
    "Use list comprehension to convert a string to a list like this:\n",
    "    \n",
    "convert \"hello\" to \\['h', 'e', 'l', 'l', 'o']."
   ]
  },
  {
   "cell_type": "code",
   "execution_count": null,
   "metadata": {},
   "outputs": [],
   "source": [
    "# Please write your code here:\n",
    "\n",
    "\n"
   ]
  },
  {
   "cell_type": "markdown",
   "metadata": {},
   "source": [
    "### Set\n",
    "\n",
    "**Practice 8**\n",
    "    \n",
    "Given a list, can we use set to remove all duplications from this list? \n"
   ]
  },
  {
   "cell_type": "code",
   "execution_count": null,
   "metadata": {},
   "outputs": [],
   "source": [
    "# Please write your code here:\n",
    "\n",
    "\n"
   ]
  },
  {
   "cell_type": "markdown",
   "metadata": {},
   "source": [
    "### list comprehension and zip\n",
    "\n",
    "**Practice 9** \n",
    "    \n",
    "Calculate sum of the element product of two arrays $a$ and $b$ using list comprehension and zip. "
   ]
  },
  {
   "cell_type": "code",
   "execution_count": null,
   "metadata": {},
   "outputs": [],
   "source": [
    "# Please write your code here:\n",
    "\n",
    "\n"
   ]
  },
  {
   "cell_type": "markdown",
   "metadata": {},
   "source": [
    "### Function Scope\n",
    "\n",
    "**Practice 10**\n",
    "\n",
    "Run this piece of code and report what is the ouput:\n",
    "\n",
    "Is this correct?\n",
    "    \n",
    "```python\n",
    "a = 0\n",
    "\n",
    "def my_function():\n",
    "    print(a)\n",
    "    a = 3\n",
    "    print(a)\n",
    "\n",
    "my_function()\n",
    "```"
   ]
  },
  {
   "cell_type": "code",
   "execution_count": null,
   "metadata": {},
   "outputs": [],
   "source": [
    "# Please write your code here:\n",
    "\n",
    "\n"
   ]
  }
 ],
 "metadata": {
  "kernelspec": {
   "display_name": "Python 3",
   "language": "python",
   "name": "python3"
  },
  "language_info": {
   "codemirror_mode": {
    "name": "ipython",
    "version": 3
   },
   "file_extension": ".py",
   "mimetype": "text/x-python",
   "name": "python",
   "nbconvert_exporter": "python",
   "pygments_lexer": "ipython3",
   "version": "3.7.4"
  }
 },
 "nbformat": 4,
 "nbformat_minor": 4
}
