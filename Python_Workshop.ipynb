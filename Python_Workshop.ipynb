{
 "cells": [
  {
   "cell_type": "markdown",
   "metadata": {},
   "source": [
    "# Python Workshop\n",
    "\n",
    "## Jingsai Liang & Greg Gagne\n",
    "## 1-14-21\n",
    "---"
   ]
  },
  {
   "cell_type": "markdown",
   "metadata": {},
   "source": [
    "### Variable\n",
    "\n",
    "Declaration of variables is not required in Python. \n",
    "\n",
    "- integer\n",
    "\t- The size of interger could be unlimited. No need to worry about integer overflow. \n",
    "      ```python\n",
    "      i = 2**100\n",
    "      i\n",
    "      1267650600228229401496703205376\n",
    "      ```\n",
    "    - Support multiple bases\n",
    "      ```python\n",
    "      i, j, k = 0b100, 0o11, 0xAA\n",
    "      print(i,j,k)\n",
    "      4 9 170\n",
    "      ```"
   ]
  },
  {
   "cell_type": "code",
   "execution_count": null,
   "metadata": {},
   "outputs": [],
   "source": []
  }
 ],
 "metadata": {
  "kernelspec": {
   "display_name": "Python 3",
   "language": "python",
   "name": "python3"
  },
  "language_info": {
   "codemirror_mode": {
    "name": "ipython",
    "version": 3
   },
   "file_extension": ".py",
   "mimetype": "text/x-python",
   "name": "python",
   "nbconvert_exporter": "python",
   "pygments_lexer": "ipython3",
   "version": "3.7.4"
  }
 },
 "nbformat": 4,
 "nbformat_minor": 4
}
